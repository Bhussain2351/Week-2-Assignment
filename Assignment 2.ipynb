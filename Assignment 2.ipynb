{
 "cells": [
  {
   "cell_type": "raw",
   "id": "beb2ad18-2394-4a14-91cb-32ab264e613e",
   "metadata": {},
   "source": [
    "1 Ans. By adding hash sysbol # in the begining we comment code in Python.\n",
    "       There are three types of comments- a) Single-line comments b) Multi-line comments and c) Docstring comments\n",
    "       \n",
    "2 Ans. A Python variable is a reserved memory location to store values, a variable in python gives data to the computer for processing. It has data type, it may \n",
    "        be int, List, Tuble, Set and so on.\n",
    "        \n",
    "        We declare and assign values to variable by putting  equal to sign between them and executing them by shift+enter or Control+enter . For examples a=1,2,3\n",
    "        here we assigning and declaring values 1,2,3 to the variable \"a\"\n",
    "        When we call \"a\" it will give the value 1,2,3\n",
    "        \n",
    "3 Ans. We convert one data type to another in Python by typecasting. for example a=500 , here 500 is integer we can convert it to string by adding str (values).\n",
    "       a=str(500), now the data type has changed from integer to String\n",
    "\n",
    "4 Ans. We need to open a command line and type the word python followed by the path to the script file."
   ]
  },
  {
   "cell_type": "code",
   "execution_count": 1,
   "id": "1ba7aa8e-0ace-444e-8312-b0adcb3de5f3",
   "metadata": {},
   "outputs": [],
   "source": [
    "my_list=[1,2,3,4,5]"
   ]
  },
  {
   "cell_type": "code",
   "execution_count": 2,
   "id": "a776554f-301c-4b59-b1cc-37fe1d2c7fb9",
   "metadata": {},
   "outputs": [
    {
     "data": {
      "text/plain": [
       "[2, 3]"
      ]
     },
     "execution_count": 2,
     "metadata": {},
     "output_type": "execute_result"
    }
   ],
   "source": [
    "my_list[1:3]"
   ]
  },
  {
   "cell_type": "raw",
   "id": "ee3c34ed-48c4-43de-be4b-3c472b903a0b",
   "metadata": {},
   "source": [
    "6 Ans. Complex number is the combination of real number and Imaginary number. example 45+i, it is a complex\n",
    "       but in python imaginary number alway represented by j. In python it would be 45+j, here 45 is real number and 'j' is imaginary number\n",
    "7 Ans. A variable can only contain albha, albh-numberic and underscores. Variable are case-sensitive - age, Age and AGE are three diffrent variables"
   ]
  },
  {
   "cell_type": "code",
   "execution_count": 6,
   "id": "b67cfb6e-a436-495a-8f3b-61953af582d5",
   "metadata": {},
   "outputs": [],
   "source": [
    "age=25\n",
    "\n",
    "# value 25 is assigned to variable age."
   ]
  },
  {
   "cell_type": "code",
   "execution_count": 7,
   "id": "717b5423-0102-4579-8f9e-133a567e02f5",
   "metadata": {},
   "outputs": [],
   "source": [
    "price=9.99"
   ]
  },
  {
   "cell_type": "code",
   "execution_count": 8,
   "id": "7fed54a0-2030-4d25-a0a3-c69d4a290d41",
   "metadata": {},
   "outputs": [
    {
     "data": {
      "text/plain": [
       "float"
      ]
     },
     "execution_count": 8,
     "metadata": {},
     "output_type": "execute_result"
    }
   ],
   "source": [
    "type(price)"
   ]
  },
  {
   "cell_type": "code",
   "execution_count": 9,
   "id": "fc46ce86-ac55-4f57-af44-7f2578024954",
   "metadata": {},
   "outputs": [],
   "source": [
    "name=\"Bakhtiar Hussain\""
   ]
  },
  {
   "cell_type": "code",
   "execution_count": 10,
   "id": "9263dee4-16ba-4bb1-9969-81412a1ed7a0",
   "metadata": {},
   "outputs": [
    {
     "name": "stdout",
     "output_type": "stream",
     "text": [
      "Bakhtiar Hussain\n"
     ]
    }
   ],
   "source": [
    "print(name)"
   ]
  },
  {
   "cell_type": "code",
   "execution_count": 11,
   "id": "32e932f2-08fe-443d-a2b3-a8f26218603f",
   "metadata": {},
   "outputs": [
    {
     "data": {
      "text/plain": [
       "'Bakhtiar Hussain'"
      ]
     },
     "execution_count": 11,
     "metadata": {},
     "output_type": "execute_result"
    }
   ],
   "source": [
    "name"
   ]
  },
  {
   "cell_type": "code",
   "execution_count": 16,
   "id": "280ec360-aa4f-4d6d-b731-476fe4742d8f",
   "metadata": {},
   "outputs": [],
   "source": [
    "S=\"Hello, World\""
   ]
  },
  {
   "cell_type": "code",
   "execution_count": 25,
   "id": "67ed89ac-3b8c-43b1-b65a-6f5c0b420d38",
   "metadata": {},
   "outputs": [
    {
     "data": {
      "text/plain": [
       "'World'"
      ]
     },
     "execution_count": 25,
     "metadata": {},
     "output_type": "execute_result"
    }
   ],
   "source": [
    "S[-5::1]"
   ]
  },
  {
   "cell_type": "code",
   "execution_count": 32,
   "id": "dec372ac-bb1f-4a77-98fb-1bee985f15d5",
   "metadata": {},
   "outputs": [
    {
     "name": "stdin",
     "output_type": "stream",
     "text": [
      " True\n"
     ]
    },
    {
     "name": "stdout",
     "output_type": "stream",
     "text": [
      "I am currently a student\n"
     ]
    }
   ],
   "source": [
    "is_student=input()\n",
    "if is_student== \"True\":\n",
    "    print(\"I am currently a student\")\n",
    "    \n",
    "else:\n",
    "     print(\"I am not currently not a student\")\n",
    "\n",
    "\n",
    "\n",
    "    \n",
    "    "
   ]
  },
  {
   "cell_type": "code",
   "execution_count": null,
   "id": "7129c120-42c8-48f9-9376-3290d03bf519",
   "metadata": {},
   "outputs": [],
   "source": []
  }
 ],
 "metadata": {
  "kernelspec": {
   "display_name": "Python 3 (ipykernel)",
   "language": "python",
   "name": "python3"
  },
  "language_info": {
   "codemirror_mode": {
    "name": "ipython",
    "version": 3
   },
   "file_extension": ".py",
   "mimetype": "text/x-python",
   "name": "python",
   "nbconvert_exporter": "python",
   "pygments_lexer": "ipython3",
   "version": "3.10.8"
  }
 },
 "nbformat": 4,
 "nbformat_minor": 5
}
